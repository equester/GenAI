{
 "cells": [
  {
   "cell_type": "markdown",
   "id": "a7e8f5a9-fa20-4df0-ae5a-711a8469abb2",
   "metadata": {},
   "source": [
    "# Completion API Parameters "
   ]
  },
  {
   "cell_type": "markdown",
   "id": "042c3d33-7a17-4fc5-ada0-414d61772907",
   "metadata": {},
   "source": [
    "ref: https://platform.openai.com/docs/api-reference/completions/create\n",
    "\n",
    "![Model Params 1](https://i.ibb.co/74DsGGZ/Screenshot-2023-03-26-at-12-00-23-AM.png)\n",
    "![Model Params 2](https://i.ibb.co/M9LtXCD/Screenshot-2023-03-26-at-12-00-38-AM.png)\n",
    "![Model Params 3](https://i.ibb.co/Lg7gVqD/Screenshot-2023-03-26-at-12-01-12-AM.png)\n",
    "![Model Params 4](https://i.ibb.co/myMgpQL/Screenshot-2023-03-26-at-12-01-46-AM.png)"
   ]
  },
  {
   "cell_type": "code",
   "execution_count": null,
   "id": "5218dae0-eb18-4a48-97c8-0c99033f1c03",
   "metadata": {},
   "outputs": [],
   "source": []
  },
  {
   "cell_type": "code",
   "execution_count": null,
   "id": "5cbc66cc-dbe9-45f3-9cb2-ff48da7d033b",
   "metadata": {},
   "outputs": [],
   "source": []
  },
  {
   "cell_type": "code",
   "execution_count": null,
   "id": "69f1a69b-31d2-44b8-bd78-558d867dbda0",
   "metadata": {},
   "outputs": [],
   "source": []
  }
 ],
 "metadata": {
  "kernelspec": {
   "display_name": "Python 3 (ipykernel)",
   "language": "python",
   "name": "python3"
  },
  "language_info": {
   "codemirror_mode": {
    "name": "ipython",
    "version": 3
   },
   "file_extension": ".py",
   "mimetype": "text/x-python",
   "name": "python",
   "nbconvert_exporter": "python",
   "pygments_lexer": "ipython3",
   "version": "3.11.0"
  }
 },
 "nbformat": 4,
 "nbformat_minor": 5
}
